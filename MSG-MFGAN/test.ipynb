{
 "cells": [
  {
   "cell_type": "code",
   "execution_count": 1,
   "id": "81f49309-59c1-488d-b779-43fe705e5bff",
   "metadata": {
    "tags": []
   },
   "outputs": [],
   "source": []
  },
  {
   "cell_type": "code",
   "execution_count": 1,
   "id": "324b3911-37af-4ae1-8b68-8a5f862eb5fc",
   "metadata": {
    "tags": []
   },
   "outputs": [],
   "source": [
    "import torch\n",
    "import torch.nn as nn\n",
    "import torch as th\n",
    "from Gan import *\n",
    "import torch.nn as nn\n",
    "from data_loader import data_loader\n",
    "from torch.utils.data import Dataset, DataLoader\n",
    "import os\n",
    "\n",
    "torch.cuda.empty_cache()\n",
    "class ARGS:\n",
    "    def __init__(self):\n",
    "        self.datapath=\"autodl-tmp/multi_focus\"\n",
    "        self.init_size=4\n",
    "        self.final_size=256\n",
    "        self.device=th.device(\"cuda:0\" if th.cuda.is_available() else \"cpu\")\n",
    "        self.adam_beta1=0.9\n",
    "        self.adam_beta2=0.999\n",
    "        self.g_lr=0.0001\n",
    "        self.d_lr=0.0004\n",
    "        self.generator_optim_file=None\n",
    "        self.discriminator_optim_file=None\n",
    "        self.generator_save_path=None\n",
    "        self.discriminator_save_path=None\n",
    "        self.loss_function=\"RelativeplusContentLoss\"\n",
    "        self.alpha=6\n",
    "        self.beta=1\n",
    "        self.num_epochs=200 #\n",
    "        self.checkpoint_factor=4#\n",
    "        self.feedback_factor=8#\n",
    "        self.data_percentage=100\n",
    "        self.num_samples=8#\n",
    "        self.sample_dir=\"tf-logs/recordings/images\"\n",
    "        self.batch_size=52 #52\n",
    "        self.start=1\n",
    "        self.loss_dir=\"tf-logs/recordings/loss\"\n",
    "        self.model_dir=\"tf-logs/recordings/model\"\n",
    "        self.imgSrootPath=\"test/sourceimages/s\"\n",
    "        self.imgDrootPath=\"test/Results/s\"\n",
    "        \n",
    "args=ARGS()        \n",
    "datapath=args.datapath\n",
    "init_size=args.init_size\n",
    "final_size=args.final_size\n",
    "device=args.device\n",
    "\n",
    "#get the data\n",
    "# data=data_loader.MultiFocusDataset(datapath,mode=\"train\",size=final_size)\n",
    "# data=DataLoader(data, batch_size=args.batch_size, shuffle=True)\n",
    "# testdata=data_loader.MultiFocusDataset(datapath,mode=\"test\",size=final_size)\n",
    "# testdata=DataLoader(testdata, batch_size=args.num_samples, shuffle=True)\n",
    "#get the MSG_MFGAN model\n",
    "msg_mfgan=Gan.MSG_MFGAN(init_size=init_size,final_size=final_size,device=device)\n",
    "msg_mfgan.load(gen_path=\"tf-logs/recordings/model/GAN_GEN_200.pth\")\n",
    "msg_mfgan.generate_samples2(imgArootPath=args.imgSrootPath,imgBrootPath=args.imgSrootPath,imgrootPath=args.imgDrootPath)"
   ]
  },
  {
   "cell_type": "code",
   "execution_count": 3,
   "id": "9ea9cf74-ac16-4da4-a40e-b25a32a40f8c",
   "metadata": {
    "tags": []
   },
   "outputs": [],
   "source": [
    "# msg_mfgan.generate_samples2(imgArootPath=args.imgSrootPath,imgBrootPath=args.imgSrootPath,imgrootPath=args.imgDrootPath)"
   ]
  },
  {
   "cell_type": "code",
   "execution_count": null,
   "id": "9272cb10-71bc-40ac-a5fe-ff315673ea2d",
   "metadata": {},
   "outputs": [],
   "source": [
    "tar cfz test.tgz test"
   ]
  }
 ],
 "metadata": {
  "kernelspec": {
   "display_name": "Python 3 (ipykernel)",
   "language": "python",
   "name": "python3"
  },
  "language_info": {
   "codemirror_mode": {
    "name": "ipython",
    "version": 3
   },
   "file_extension": ".py",
   "mimetype": "text/x-python",
   "name": "python",
   "nbconvert_exporter": "python",
   "pygments_lexer": "ipython3",
   "version": "3.8.10"
  }
 },
 "nbformat": 4,
 "nbformat_minor": 5
}
