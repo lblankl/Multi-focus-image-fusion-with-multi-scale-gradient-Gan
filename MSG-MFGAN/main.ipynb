{
 "cells": [
  {
   "cell_type": "code",
   "execution_count": 1,
   "id": "637cd5c2-84af-4b3f-8257-e8503ed88275",
   "metadata": {
    "tags": []
   },
   "outputs": [
    {
     "name": "stdout",
     "output_type": "stream",
     "text": [
      "Looking in indexes: https://repo.huaweicloud.com/repository/pypi/simple\n",
      "Requirement already satisfied: pytorch_msssim in ./miniconda3/lib/python3.8/site-packages (0.2.1)\n",
      "Requirement already satisfied: torch in ./miniconda3/lib/python3.8/site-packages (from pytorch_msssim) (2.0.0+cu118)\n",
      "Requirement already satisfied: sympy in ./miniconda3/lib/python3.8/site-packages (from torch->pytorch_msssim) (1.11.1)\n",
      "Requirement already satisfied: jinja2 in ./miniconda3/lib/python3.8/site-packages (from torch->pytorch_msssim) (3.1.2)\n",
      "Requirement already satisfied: typing-extensions in ./miniconda3/lib/python3.8/site-packages (from torch->pytorch_msssim) (4.5.0)\n",
      "Requirement already satisfied: triton==2.0.0 in ./miniconda3/lib/python3.8/site-packages (from torch->pytorch_msssim) (2.0.0)\n",
      "Requirement already satisfied: filelock in ./miniconda3/lib/python3.8/site-packages (from torch->pytorch_msssim) (3.10.0)\n",
      "Requirement already satisfied: networkx in ./miniconda3/lib/python3.8/site-packages (from torch->pytorch_msssim) (3.0)\n",
      "Requirement already satisfied: cmake in ./miniconda3/lib/python3.8/site-packages (from triton==2.0.0->torch->pytorch_msssim) (3.26.0)\n",
      "Requirement already satisfied: lit in ./miniconda3/lib/python3.8/site-packages (from triton==2.0.0->torch->pytorch_msssim) (15.0.7)\n",
      "Requirement already satisfied: MarkupSafe>=2.0 in ./miniconda3/lib/python3.8/site-packages (from jinja2->torch->pytorch_msssim) (2.1.2)\n",
      "Requirement already satisfied: mpmath>=0.19 in ./miniconda3/lib/python3.8/site-packages (from sympy->torch->pytorch_msssim) (1.3.0)\n",
      "\u001b[33mWARNING: Running pip as the 'root' user can result in broken permissions and conflicting behaviour with the system package manager. It is recommended to use a virtual environment instead: https://pip.pypa.io/warnings/venv\u001b[0m\n",
      "Note: you may need to restart the kernel to use updated packages.\n"
     ]
    }
   ],
   "source": [
    "pip install pytorch_msssim"
   ]
  },
  {
   "cell_type": "code",
   "execution_count": 2,
   "id": "912e5657-fe23-4ca5-860f-394503f88ef5",
   "metadata": {
    "tags": []
   },
   "outputs": [
    {
     "name": "stdout",
     "output_type": "stream",
     "text": [
      "Looking in indexes: https://repo.huaweicloud.com/repository/pypi/simple\n",
      "Requirement already satisfied: scikit-learn in ./miniconda3/lib/python3.8/site-packages (1.1.3)\n",
      "Requirement already satisfied: threadpoolctl>=2.0.0 in ./miniconda3/lib/python3.8/site-packages (from scikit-learn) (3.1.0)\n",
      "Requirement already satisfied: scipy>=1.3.2 in ./miniconda3/lib/python3.8/site-packages (from scikit-learn) (1.10.1)\n",
      "Requirement already satisfied: joblib>=1.0.0 in ./miniconda3/lib/python3.8/site-packages (from scikit-learn) (1.1.0)\n",
      "Requirement already satisfied: numpy>=1.17.3 in ./miniconda3/lib/python3.8/site-packages (from scikit-learn) (1.24.2)\n",
      "\u001b[33mWARNING: Running pip as the 'root' user can result in broken permissions and conflicting behaviour with the system package manager. It is recommended to use a virtual environment instead: https://pip.pypa.io/warnings/venv\u001b[0m\n",
      "Note: you may need to restart the kernel to use updated packages.\n"
     ]
    }
   ],
   "source": [
    "pip install scikit-learn"
   ]
  },
  {
   "cell_type": "code",
   "execution_count": 3,
   "id": "37f2ce1b-72ff-4c6c-9698-2ceff664616f",
   "metadata": {
    "tags": []
   },
   "outputs": [
    {
     "ename": "SyntaxError",
     "evalue": "invalid character in identifier (2608596870.py, line 1)",
     "output_type": "error",
     "traceback": [
      "\u001b[0;36m  Cell \u001b[0;32mIn[3], line 1\u001b[0;36m\u001b[0m\n\u001b[0;31m    ！unzip MSG-MFGAN.zip\u001b[0m\n\u001b[0m         ^\u001b[0m\n\u001b[0;31mSyntaxError\u001b[0m\u001b[0;31m:\u001b[0m invalid character in identifier\n"
     ]
    }
   ],
   "source": [
    "unzip MSG-MFGAN.zip"
   ]
  },
  {
   "cell_type": "code",
   "execution_count": 1,
   "id": "2e73b482-e673-4846-89a1-12ba9228dfbe",
   "metadata": {
    "tags": []
   },
   "outputs": [
    {
     "ename": "SyntaxError",
     "evalue": "invalid syntax (438976797.py, line 1)",
     "output_type": "error",
     "traceback": [
      "\u001b[0;36m  Cell \u001b[0;32mIn[1], line 1\u001b[0;36m\u001b[0m\n\u001b[0;31m    unzip -d /root/autodl-tmp multi_focus.zip\u001b[0m\n\u001b[0m                              ^\u001b[0m\n\u001b[0;31mSyntaxError\u001b[0m\u001b[0;31m:\u001b[0m invalid syntax\n"
     ]
    }
   ],
   "source": [
    "unzip -d /root/autodl-tmp multi_focus.zip"
   ]
  },
  {
   "cell_type": "code",
   "execution_count": null,
   "id": "7212b3b9-7fd3-4c08-938c-349f7be7e475",
   "metadata": {},
   "outputs": [],
   "source": [
    "zip MSG-MFGAN.zip MSG-MFGAN"
   ]
  },
  {
   "cell_type": "code",
   "execution_count": 2,
   "id": "e6547b9c-c507-4062-bc60-04782405ab72",
   "metadata": {
    "tags": []
   },
   "outputs": [
    {
     "name": "stdout",
     "output_type": "stream",
     "text": [
      "Starting the training process ... \n",
      "\n",
      "Epoch: 1\n",
      "Elapsed [0:00:03.157146] feedback_count: 0 batch: 1  d_loss: 0.516606  g_loss: 20.543900  ssim_train: 0.732948  ssim_test: 0.774040\n"
     ]
    },
    {
     "ename": "KeyboardInterrupt",
     "evalue": "",
     "output_type": "error",
     "traceback": [
      "\u001b[0;31m---------------------------------------------------------------------------\u001b[0m",
      "\u001b[0;31mKeyboardInterrupt\u001b[0m                         Traceback (most recent call last)",
      "Cell \u001b[0;32mIn[2], line 77\u001b[0m\n\u001b[1;32m     74\u001b[0m \u001b[38;5;28;01mif\u001b[39;00m loss_name\u001b[38;5;241m==\u001b[39m\u001b[38;5;124m\"\u001b[39m\u001b[38;5;124mrelativepluscontentloss\u001b[39m\u001b[38;5;124m\"\u001b[39m:\n\u001b[1;32m     75\u001b[0m     loss\u001b[38;5;241m=\u001b[39mLoss\u001b[38;5;241m.\u001b[39mRelativeplusContentLoss(device\u001b[38;5;241m=\u001b[39margs\u001b[38;5;241m.\u001b[39mdevice,dis\u001b[38;5;241m=\u001b[39mmsg_mfgan\u001b[38;5;241m.\u001b[39mdis,alpha\u001b[38;5;241m=\u001b[39margs\u001b[38;5;241m.\u001b[39malpha,beta\u001b[38;5;241m=\u001b[39margs\u001b[38;5;241m.\u001b[39mbeta)\n\u001b[0;32m---> 77\u001b[0m \u001b[43mmsg_mfgan\u001b[49m\u001b[38;5;241;43m.\u001b[39;49m\u001b[43mtrain\u001b[49m\u001b[43m(\u001b[49m\n\u001b[1;32m     78\u001b[0m \u001b[43m        \u001b[49m\u001b[43mdata\u001b[49m\u001b[43m,\u001b[49m\n\u001b[1;32m     79\u001b[0m \u001b[43m        \u001b[49m\u001b[43mgen_optim\u001b[49m\u001b[43m,\u001b[49m\n\u001b[1;32m     80\u001b[0m \u001b[43m        \u001b[49m\u001b[43mdis_optim\u001b[49m\u001b[43m,\u001b[49m\n\u001b[1;32m     81\u001b[0m \u001b[43m        \u001b[49m\u001b[43mloss_fn\u001b[49m\u001b[38;5;241;43m=\u001b[39;49m\u001b[43mloss\u001b[49m\u001b[43m,\u001b[49m\n\u001b[1;32m     82\u001b[0m \u001b[43m        \u001b[49m\u001b[43mtestdata\u001b[49m\u001b[38;5;241;43m=\u001b[39;49m\u001b[43mtestdata\u001b[49m\u001b[43m,\u001b[49m\n\u001b[1;32m     83\u001b[0m \u001b[43m        \u001b[49m\u001b[43mnum_epochs\u001b[49m\u001b[38;5;241;43m=\u001b[39;49m\u001b[43margs\u001b[49m\u001b[38;5;241;43m.\u001b[39;49m\u001b[43mnum_epochs\u001b[49m\u001b[43m,\u001b[49m\n\u001b[1;32m     84\u001b[0m \u001b[43m        \u001b[49m\u001b[43mcheckpoint_factor\u001b[49m\u001b[38;5;241;43m=\u001b[39;49m\u001b[43margs\u001b[49m\u001b[38;5;241;43m.\u001b[39;49m\u001b[43mcheckpoint_factor\u001b[49m\u001b[43m,\u001b[49m\n\u001b[1;32m     85\u001b[0m \u001b[43m        \u001b[49m\u001b[43mdata_percentage\u001b[49m\u001b[38;5;241;43m=\u001b[39;49m\u001b[43margs\u001b[49m\u001b[38;5;241;43m.\u001b[39;49m\u001b[43mdata_percentage\u001b[49m\u001b[43m,\u001b[49m\n\u001b[1;32m     86\u001b[0m \u001b[43m        \u001b[49m\u001b[43mfeedback_factor\u001b[49m\u001b[38;5;241;43m=\u001b[39;49m\u001b[43margs\u001b[49m\u001b[38;5;241;43m.\u001b[39;49m\u001b[43mfeedback_factor\u001b[49m\u001b[43m,\u001b[49m\n\u001b[1;32m     87\u001b[0m \u001b[43m        \u001b[49m\u001b[43mnum_samples\u001b[49m\u001b[38;5;241;43m=\u001b[39;49m\u001b[43margs\u001b[49m\u001b[38;5;241;43m.\u001b[39;49m\u001b[43mnum_samples\u001b[49m\u001b[43m,\u001b[49m\n\u001b[1;32m     88\u001b[0m \u001b[43m        \u001b[49m\u001b[43msample_dir\u001b[49m\u001b[38;5;241;43m=\u001b[39;49m\u001b[43margs\u001b[49m\u001b[38;5;241;43m.\u001b[39;49m\u001b[43msample_dir\u001b[49m\u001b[43m,\u001b[49m\n\u001b[1;32m     89\u001b[0m \u001b[43m        \u001b[49m\u001b[43msave_dir\u001b[49m\u001b[38;5;241;43m=\u001b[39;49m\u001b[43margs\u001b[49m\u001b[38;5;241;43m.\u001b[39;49m\u001b[43mmodel_dir\u001b[49m\u001b[43m,\u001b[49m\n\u001b[1;32m     90\u001b[0m \u001b[43m        \u001b[49m\u001b[43mloss_dir\u001b[49m\u001b[38;5;241;43m=\u001b[39;49m\u001b[43margs\u001b[49m\u001b[38;5;241;43m.\u001b[39;49m\u001b[43mloss_dir\u001b[49m\u001b[43m,\u001b[49m\n\u001b[1;32m     91\u001b[0m \u001b[43m        \u001b[49m\u001b[43mstart\u001b[49m\u001b[38;5;241;43m=\u001b[39;49m\u001b[43margs\u001b[49m\u001b[38;5;241;43m.\u001b[39;49m\u001b[43mstart\u001b[49m\n\u001b[1;32m     92\u001b[0m \u001b[43m    \u001b[49m\u001b[43m)\u001b[49m\n\u001b[1;32m     93\u001b[0m \u001b[38;5;66;03m# train(self, data, gen_optim, dis_optim, loss_fn,testdata,\u001b[39;00m\n\u001b[1;32m     94\u001b[0m \u001b[38;5;66;03m#               start=1, num_epochs=12, feedback_factor=10, checkpoint_factor=1,\u001b[39;00m\n\u001b[1;32m     95\u001b[0m \u001b[38;5;66;03m#               data_percentage=100, num_samples=4,\u001b[39;00m\n\u001b[1;32m     96\u001b[0m \u001b[38;5;66;03m#               loss_dir='muti_recordings/loss', sample_dir='muti_recordings/images',\u001b[39;00m\n\u001b[1;32m     97\u001b[0m \u001b[38;5;66;03m#               save_dir=\"./models\"):\u001b[39;00m\n",
      "File \u001b[0;32m~/Gan/Gan.py:593\u001b[0m, in \u001b[0;36mMSG_MFGAN.train\u001b[0;34m(self, data, gen_optim, dis_optim, loss_fn, testdata, start, num_epochs, feedback_factor, checkpoint_factor, data_percentage, num_samples, loss_dir, sample_dir, save_dir)\u001b[0m\n\u001b[1;32m    586\u001b[0m multi_focus \u001b[38;5;241m=\u001b[39mGetMuti_scale_Images_pair(imagesA,imagesB,div_index)\n\u001b[1;32m    592\u001b[0m \u001b[38;5;66;03m# optimize the discriminator:\u001b[39;00m\n\u001b[0;32m--> 593\u001b[0m dis_loss \u001b[38;5;241m=\u001b[39m \u001b[38;5;28;43mself\u001b[39;49m\u001b[38;5;241;43m.\u001b[39;49m\u001b[43moptimize_discriminator\u001b[49m\u001b[43m(\u001b[49m\u001b[43mdis_optim\u001b[49m\u001b[43m,\u001b[49m\u001b[43m \u001b[49m\u001b[43mmulti_focus\u001b[49m\u001b[43m,\u001b[49m\n\u001b[1;32m    594\u001b[0m \u001b[43m                                       \u001b[49m\u001b[43mimages\u001b[49m\u001b[43m,\u001b[49m\u001b[43m \u001b[49m\u001b[43mloss_fn\u001b[49m\u001b[43m)\u001b[49m\n\u001b[1;32m    596\u001b[0m \u001b[38;5;66;03m# optimize the generator:\u001b[39;00m\n\u001b[1;32m    597\u001b[0m \u001b[38;5;66;03m# resample from the latent noise\u001b[39;00m\n\u001b[1;32m    599\u001b[0m gen_loss,ssim_loss \u001b[38;5;241m=\u001b[39m \u001b[38;5;28mself\u001b[39m\u001b[38;5;241m.\u001b[39moptimize_generator(gen_optim, multi_focus,\n\u001b[1;32m    600\u001b[0m                                    images, loss_fn)\n",
      "File \u001b[0;32m~/Gan/Gan.py:442\u001b[0m, in \u001b[0;36mMSG_MFGAN.optimize_discriminator\u001b[0;34m(self, dis_optim, multi_batch, real_batch, loss_fn)\u001b[0m\n\u001b[1;32m    437\u001b[0m dis_optim\u001b[38;5;241m.\u001b[39mstep()\n\u001b[1;32m    438\u001b[0m \u001b[38;5;66;03m# self.scaler.scale(loss).backward()\u001b[39;00m\n\u001b[1;32m    439\u001b[0m \u001b[38;5;66;03m# self.scaler.step(dis_optim)\u001b[39;00m\n\u001b[1;32m    440\u001b[0m \u001b[38;5;66;03m# self.scaler.update()\u001b[39;00m\n\u001b[0;32m--> 442\u001b[0m \u001b[38;5;28;01mreturn\u001b[39;00m \u001b[43mloss\u001b[49m\u001b[38;5;241;43m.\u001b[39;49m\u001b[43mitem\u001b[49m\u001b[43m(\u001b[49m\u001b[43m)\u001b[49m\n",
      "\u001b[0;31mKeyboardInterrupt\u001b[0m: "
     ]
    }
   ],
   "source": [
    "import torch\n",
    "import torch.nn as nn\n",
    "import torch as th\n",
    "from Gan import *\n",
    "import torch.nn as nn\n",
    "from data_loader import data_loader\n",
    "from torch.utils.data import Dataset, DataLoader\n",
    "import os\n",
    "torch.cuda.empty_cache()\n",
    "# os.environ[\"PYTORCH_CUDA_ALLOC_CONF\"] = \"max_split_size_mb:256\"\n",
    "\n",
    "\n",
    "# torch.cuda.set_per_process_memory_fraction(0.5, device=None)\n",
    "\n",
    "class ARGS:\n",
    "    def __init__(self):\n",
    "        self.datapath=\"autodl-tmp/multi_focus\"\n",
    "        self.init_size=4\n",
    "        self.final_size=256\n",
    "        self.device=th.device(\"cuda:0\" if th.cuda.is_available() else \"cpu\")\n",
    "        self.adam_beta1=0.9\n",
    "        self.adam_beta2=0.999\n",
    "        self.g_lr=0.0001\n",
    "        self.d_lr=0.0004\n",
    "        self.generator_optim_file=None\n",
    "        self.discriminator_optim_file=None\n",
    "        self.generator_save_path=None\n",
    "        self.discriminator_save_path=None\n",
    "        self.loss_function=\"RelativeplusContentLoss\"\n",
    "        self.alpha=6\n",
    "        self.beta=1\n",
    "        self.num_epochs=200 #\n",
    "        self.checkpoint_factor=4#\n",
    "        self.feedback_factor=8#\n",
    "        self.data_percentage=100\n",
    "        self.num_samples=8#\n",
    "        self.sample_dir=\"tf-logs/recordings/images\"\n",
    "        self.batch_size=16 #52\n",
    "        self.start=1\n",
    "        self.loss_dir=\"tf-logs/recordings/loss\"\n",
    "        self.model_dir=\"tf-logs/recordings/model\"\n",
    "        \n",
    "args=ARGS()        \n",
    "datapath=args.datapath\n",
    "init_size=args.init_size\n",
    "final_size=args.final_size\n",
    "device=args.device\n",
    "\n",
    "#get the data\n",
    "data=data_loader.MultiFocusDataset(datapath,mode=\"train\",size=final_size)\n",
    "data=DataLoader(data, batch_size=args.batch_size, shuffle=True)\n",
    "testdata=data_loader.MultiFocusDataset(datapath,mode=\"test\",size=final_size)\n",
    "testdata=DataLoader(testdata, batch_size=args.num_samples, shuffle=True)\n",
    "#get the MSG_MFGAN model\n",
    "msg_mfgan=Gan.MSG_MFGAN(init_size=init_size,final_size=final_size,device=device)\n",
    "\n",
    "gen_optim = th.optim.Adam(msg_mfgan.gen.parameters(), args.g_lr,\n",
    "                              [args.adam_beta1, args.adam_beta2])\n",
    "dis_optim = th.optim.Adam(msg_mfgan.dis.parameters(), args.d_lr,\n",
    "                              [args.adam_beta1, args.adam_beta2])\n",
    "\n",
    "if args.generator_optim_file is not None:\n",
    "        gen_optim.load_state_dict(th.load(args.generator_optim_file))\n",
    "\n",
    "if args.discriminator_optim_file is not None:\n",
    "        dis_optim.load_state_dict(th.load(args.discriminator_optim_file))\n",
    "if args.generator_save_path is not None :\n",
    "        msg_mfgan.gen.load_state_dict(th.load(args.generator_save_path))\n",
    "if args.discriminator_save_path is not None :\n",
    "        msg_mfgan.dis.load_state_dict(th.load(args.discriminator_save_path))\n",
    "    \n",
    "        \n",
    "loss_name = args.loss_function.lower()\n",
    "if loss_name==\"relativepluscontentloss\":\n",
    "    loss=Loss.RelativeplusContentLoss(device=args.device,dis=msg_mfgan.dis,alpha=args.alpha,beta=args.beta)\n",
    "\n",
    "msg_mfgan.train(\n",
    "        data,\n",
    "        gen_optim,\n",
    "        dis_optim,\n",
    "        loss_fn=loss,\n",
    "        testdata=testdata,\n",
    "        num_epochs=args.num_epochs,\n",
    "        checkpoint_factor=args.checkpoint_factor,\n",
    "        data_percentage=args.data_percentage,\n",
    "        feedback_factor=args.feedback_factor,\n",
    "        num_samples=args.num_samples,\n",
    "        sample_dir=args.sample_dir,\n",
    "        save_dir=args.model_dir,\n",
    "        loss_dir=args.loss_dir,\n",
    "        start=args.start\n",
    "    )\n",
    "# train(self, data, gen_optim, dis_optim, loss_fn,testdata,\n",
    "#               start=1, num_epochs=12, feedback_factor=10, checkpoint_factor=1,\n",
    "#               data_percentage=100, num_samples=4,\n",
    "#               loss_dir='muti_recordings/loss', sample_dir='muti_recordings/images',\n",
    "#               save_dir=\"./models\"):\n",
    "\n",
    "        "
   ]
  },
  {
   "cell_type": "code",
   "execution_count": null,
   "id": "dcdf84fc-2fcd-4744-adc3-0a990fa7f1ee",
   "metadata": {},
   "outputs": [],
   "source": []
  }
 ],
 "metadata": {
  "kernelspec": {
   "display_name": "Python 3 (ipykernel)",
   "language": "python",
   "name": "python3"
  },
  "language_info": {
   "codemirror_mode": {
    "name": "ipython",
    "version": 3
   },
   "file_extension": ".py",
   "mimetype": "text/x-python",
   "name": "python",
   "nbconvert_exporter": "python",
   "pygments_lexer": "ipython3",
   "version": "3.8.10"
  }
 },
 "nbformat": 4,
 "nbformat_minor": 5
}
